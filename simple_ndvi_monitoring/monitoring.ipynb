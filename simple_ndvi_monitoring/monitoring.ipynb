{
 "cells": [
  {
   "cell_type": "markdown",
   "metadata": {},
   "source": [
    "<table>\n",
    "    <tr>\n",
    "        <td>\n",
    "            <img src=\"extra/logo_scgis.png\" width=\"100\" height=\"100\" />\n",
    "        </td>\n",
    "        <td>\n",
    "            <center>\n",
    "                <font size = 1>\n",
    "                8 НОЯБРЯ 2020<br>\n",
    "                АНТИКОНФЕРЕНЦИЯ СООБЩЕСТВА ПРИРОДООХРАННЫХ ГИС В РОССИИ<br><br>\n",
    "                </font>\n",
    "                <font size = 3>\n",
    "                Материалы к вебинару<br> <b>Получение и обработка данных дистанционного зондирования с помощью Python:<br>строим простую систему мониторинга окружающей среды в Jupyter Notebook.</b><br><br>\n",
    "                </font>\n",
    "                <font size = 2>\n",
    "                <b>Эдуард Казаков</b><br>\n",
    "                NextGIS, Государственный гидрологический институт\n",
    "                </font>\n",
    "            </center>\n",
    "        </td>\n",
    "    </tr>\n",
    "</table>"
   ]
  },
  {
   "cell_type": "markdown",
   "metadata": {},
   "source": [
    "# Преамбула\n",
    "\n",
    "Эти материалы призваны познакомить интересующихся с некоторыми аспектами использования языка Python для решения задач, связанных с организацией мониторинга окружающей среды на базе открытых данных дистанционнго зондирования Земли из космоса. Jupyter - удобная среда для демонстрации основных идей, но есть множество других способов использовать приведенный код.\n",
    "\n",
    "Несмотря на появление множества потрясающих инструментов, таких как Google Earth Engine, умение запрограммировать собственную цепочку обработки остаётся очень ценным навыком. У внешних платформ всегда будут ограничения по доступным данным и набору инструментов обработки, а в своём собственном коде вы ограничены только временем своей жизни на разработку :)\n",
    "\n",
    "Рассматриваемая задача достаточно условна, но включает работу с распространенными данными и способами взаимодействия с ними.\n",
    "\n",
    "&#128151; Подготовлено специально для прекрасных людей, связанных с сообществом природоохранных ГИС или сочувствующих ему, в 2020 году. "
   ]
  },
  {
   "cell_type": "markdown",
   "metadata": {},
   "source": [
    "# Постановка задачи\n",
    "Мониторинг - фундаментальный и понятийно очень простой процесс, лежащий в основе взаимодействия человека и окружающего мира. Говоря простым языком, под мониторингом можно понимать любое периодическое наблюдение за состоянием отдельного природного объекта или природного комплекса. Например, если вы каждое утро спускаетесь к реке и по некоторой шкале оцениваете её мутность, ведя историю таких замеров, с чистой совестью можно всем вокруг рассказывать, что вы осуществляете мониторинг окружающей среды - и это будет правдой.\n",
    "\n",
    "Наступление эпохи дистанционного зондирования открыло огромные мониторинговые возможности, ведь теперь за планетой непрерывно наблюдают сотни космических аппаратов. В зависимости от используемых источников, каждый месяц, неделю, день, а иногда и чаще, мы получаем цифровой отпечаток состояния любого уголка Земли. Накопленные за вот уже полувековую историю космических наблюдений данные перевернули наше представления о родной планете, а главное - каждую секунду эти знания продолжают пополняться.\n",
    "\n",
    "Благодаря открытым программам ДЗЗ (<a href=\"https://www.copernicus.eu/en\">ESA Copernicus</a>, <a href=\"https://eospso.nasa.gov/content/nasas-earth-observing-system-project-science-office\">NASA EOS</a> и многие другие) бесплатный доступ к постоянно обновляемым архивам космической съемки имеет всё человечество (подключенное к сети Интернет). А это значит, что даже самые частные задачки, связанные с периодическим наблюдением за состоянием поверхности, могут быть хотя бы в первом приближении решаемы любым человеком в любой части мира, будь то исполненный надежд школьник или суровый лесохозяйственник.\n",
    "\n",
    "Мы попробуем сделать простую и минималистичную \"систему мониторинга\", которая при каждом запуске будет получать свежие данные ДЗЗ на выбранную территорию, немного их обрабатывать и представлять результаты в виде человекочитаемых сводок: статистических, графических и картографических. \n",
    "\n",
    "## Данные\n",
    "\n",
    "В качестве источников данных выберем два:\n",
    "* <a href=\"https://sentinel.esa.int/web/sentinel/missions/sentinel-2\">Sentinel 2</a> - наиболее популярные сегодня данные с относительно высоким пространственным разрешением. Приблизительно каждые 5 суток на любую часть планеты мы получаем такие данные с детальностью около 10 метров на пиксель. Это очень хорошее качество. \n",
    "* <a href=\"https://modis.gsfc.nasa.gov/about/\">MODIS</a> - Данные MODIS позволяют получать ежедневные данные с разрешением от 250 метров на пиксель. Несмотря на вроде бы низкое разрешение (на самом деле нет!), эти данные незаменимы для мониторинга динамических масштабных процессов, таких как лесные пожары, крупные наводнения, дрейф морских льдов и так далее.\n",
    "\n",
    "Выбор также обусловлен методическими целями. Дело в том, что способ получения у этих двух источников данных весьма различен. Для получения данных Sentinel мы воспользуемся программным интерфейсом (API), то есть будем формировать специальные запросы к официальному шлюзу, который в ответ будет предлагать нам загрузить подходящие данные. А для получения данных MODIS мы будем идти в специальное файловое хранилище, где по имени файла сами будем разбираться, что нужно загрузить.\n",
    "\n",
    "## Задача\n",
    "\n",
    "Мы хотим следить за динамикой значений вегетационного индекса <a href=\"https://gis-lab.info/qa/ndvi.html\">NDVI</a> в пределах некоторого участка территории. Участок территории определяется содержимым векторного слоя.\n",
    "\n",
    "При каждом запуске должны догружаться новые данные, маскироваться облачность, рассчитываться NDVI, извлекаться данные в пределах участка.\n",
    "\n",
    "Для каждого участка на даты наличия космических снимков мы хотим уметь увидеть отчёт:\n",
    "* Среднее, минимальное и максимальное значения NDVI\n",
    "* График динамики NDVI за всю накопленную историю наблюдений\n",
    "* Карту распределения для последних данных поверх картографической подложки"
   ]
  },
  {
   "cell_type": "code",
   "execution_count": null,
   "metadata": {},
   "outputs": [],
   "source": []
  },
  {
   "cell_type": "markdown",
   "metadata": {},
   "source": [
    "### Импортируем библиотеки, возможности которых нам будут необходимы"
   ]
  },
  {
   "cell_type": "code",
   "execution_count": 40,
   "metadata": {},
   "outputs": [],
   "source": [
    "# Инструменты для работы с файловой системой\n",
    "import os\n",
    "\n",
    "# Библиотеки для работы с векторными и растровыми данными\n",
    "import gdal, ogr\n",
    "\n",
    "# Библиотека для взаимодействия с интернет-ресурсами\n",
    "import requests\n",
    "\n",
    "# Библиотека для разбора XML документов\n",
    "import xml.etree.ElementTree as etree\n",
    "\n",
    "# Библиотека для работы с датами и временем\n",
    "from datetime import datetime"
   ]
  },
  {
   "cell_type": "markdown",
   "metadata": {},
   "source": [
    "### Для начала подготовим функции, которые позволят как-нибудь легко и просто загружать данные.\n",
    "\n",
    "Начнём с данных Sentinel-2. Официально они распространяются с помощью портала <a href=\"https://scihub.copernicus.eu/\">The Copernicus Open Access Hub</a>, который предоставляет различные способы получения данных, в том числе - через графический веб-интерфейс. Но это нам не подходит - нам нужна автоматизация. По этому случаю есть официальное <a href=\"scihub.copernicus.eu/userguide/8BatchScripting\">API</a>, то есть способ получать данные программно. Это HTTP API, то есть оно принимает запросы по протоколу HTTP, а слать такие запросы может и обычный веб-браузер. Попробуйте, к примеру, обратиться по адресу <a href=\"https://scihub.copernicus.eu/dhus/search?q=*&rows=25\">https://scihub.copernicus.eu/dhus/search?q=*&rows=25</a> и ввести логин/пароль.\n",
    "\n",
    "Вы получите ответ на запрос в машиночитаемом формате XML. А запрос подразумевал информацию о последних 25 сценах, добавленных в систему, без дополнительных указаний. Можно добавлять разные отдельные условия, сужающие запрос. Например, вот так <a href=\"https://scihub.copernicus.eu/dhus/search?q=*&rows=25&platformname=Sentinel-2\">https://scihub.copernicus.eu/dhus/search?q=*&rows=25&platformname=Sentinel-2</a>, дополнительно указав параметр platformname, мы получим только описание сцен со спутников Sentinel-2\n",
    "\n",
    "Значит, нам нужно написать код, который будет формировать такой запрос и разбирать полученные данные. Для начала - эксперименты!"
   ]
  },
  {
   "cell_type": "code",
   "execution_count": 78,
   "metadata": {},
   "outputs": [],
   "source": [
    "# Пробуем просто выполнить такой запрос\n",
    "r = requests.get('https://scihub.copernicus.eu/dhus/search?q=(platformname:Sentinel-2)&rows=25', auth=('spbgeotex','SpbGeoTex0'))"
   ]
  },
  {
   "cell_type": "code",
   "execution_count": 53,
   "metadata": {},
   "outputs": [
    {
     "data": {
      "text/plain": [
       "requests.models.Response"
      ]
     },
     "execution_count": 53,
     "metadata": {},
     "output_type": "execute_result"
    }
   ],
   "source": [
    "type(r)"
   ]
  },
  {
   "cell_type": "code",
   "execution_count": 54,
   "metadata": {},
   "outputs": [
    {
     "data": {
      "text/plain": [
       "200"
      ]
     },
     "execution_count": 54,
     "metadata": {},
     "output_type": "execute_result"
    }
   ],
   "source": [
    "# что нам вернулось? Код статуса\n",
    "r.status_code"
   ]
  },
  {
   "cell_type": "code",
   "execution_count": 55,
   "metadata": {},
   "outputs": [
    {
     "data": {
      "text/plain": [
       "b'<?xml version=\"1.0\" encoding=\"utf-8\"?><feed xmlns:opensearch=\"http://a9.com/-/spec/opensearch/1.1/\" xmlns=\"http://www.w3.org/2005/Atom\">\\n<title>Sentinels Scientific Data Hub search results for: platformname:Sentinel-2</title>\\n<subtitle>Displaying 0 to 24 of 22831334 total results. Request done in 0 seconds.</subtitle>\\n<updated>2020-11-05T17:20:53.714Z</updated>\\n<author>\\n<name>Sentinels Scientific Data Hub</name>\\n</author>\\n<id>https://scihub.copernicus.eu/dhus/search?q=platformname:Sentinel-2</id>\\n<opensearch:totalResults>22831334</opensearch:totalResults>\\n<opensearch:startIndex>0</opensearch:startIndex>\\n<opensearch:itemsPerPage>25</opensearch:itemsPerPage>\\n<opensearch:Query role=\"request\" searchTerms=\"platformname:Sentinel-2\" startPage=\"1\"/>\\n<link rel=\"self\" type=\"application/atom+xml\" href=\"https://scihub.copernicus.eu/dhus/search?q=platformname:Sentinel-2&amp;start=0&amp;rows=25\"/>\\n<link rel=\"first\" type=\"application/atom+xml\" href=\"https://scihub.copernicus.eu/dhus/search?q=platform'"
      ]
     },
     "execution_count": 55,
     "metadata": {},
     "output_type": "execute_result"
    }
   ],
   "source": [
    "# содержимое, первая тысяча символов\n",
    "r.content[0:1000]"
   ]
  },
  {
   "cell_type": "markdown",
   "metadata": {},
   "source": [
    "Это XML-код. Нам нужно его превратить во что-то вменяемое, с чем можно было бы работать средствами Python. Для этого хорошо подходит стандартная библиотека xml"
   ]
  },
  {
   "cell_type": "code",
   "execution_count": 13,
   "metadata": {},
   "outputs": [],
   "source": [
    "# читаем весь пришедший текст как XML-дерево\n",
    "answer_data = etree.ElementTree(etree.fromstring(r.content)).getroot()\n",
    "\n",
    "# Ищем в нём все отдельные записи\n",
    "entries = answer_data.findall('{http://www.w3.org/2005/Atom}entry')"
   ]
  },
  {
   "cell_type": "code",
   "execution_count": 14,
   "metadata": {},
   "outputs": [
    {
     "data": {
      "text/plain": [
       "[<Element '{http://www.w3.org/2005/Atom}entry' at 0x000002D82A5E4188>,\n",
       " <Element '{http://www.w3.org/2005/Atom}entry' at 0x000002D82A5EFBD8>,\n",
       " <Element '{http://www.w3.org/2005/Atom}entry' at 0x000002D82A5EE638>,\n",
       " <Element '{http://www.w3.org/2005/Atom}entry' at 0x000002D82A6EE958>,\n",
       " <Element '{http://www.w3.org/2005/Atom}entry' at 0x000002D82A5DE818>,\n",
       " <Element '{http://www.w3.org/2005/Atom}entry' at 0x000002D82A5A2048>,\n",
       " <Element '{http://www.w3.org/2005/Atom}entry' at 0x000002D82A5B29F8>,\n",
       " <Element '{http://www.w3.org/2005/Atom}entry' at 0x000002D82A5B6408>,\n",
       " <Element '{http://www.w3.org/2005/Atom}entry' at 0x000002D82A5D0CC8>,\n",
       " <Element '{http://www.w3.org/2005/Atom}entry' at 0x000002D82A5D1CC8>,\n",
       " <Element '{http://www.w3.org/2005/Atom}entry' at 0x000002D82A6AD048>,\n",
       " <Element '{http://www.w3.org/2005/Atom}entry' at 0x000002D82A6C3F98>,\n",
       " <Element '{http://www.w3.org/2005/Atom}entry' at 0x000002D82A6CADB8>,\n",
       " <Element '{http://www.w3.org/2005/Atom}entry' at 0x000002D82A6BCC78>,\n",
       " <Element '{http://www.w3.org/2005/Atom}entry' at 0x000002D82A62BA98>,\n",
       " <Element '{http://www.w3.org/2005/Atom}entry' at 0x000002D82A64CEF8>,\n",
       " <Element '{http://www.w3.org/2005/Atom}entry' at 0x000002D82A653638>,\n",
       " <Element '{http://www.w3.org/2005/Atom}entry' at 0x000002D82A6384F8>,\n",
       " <Element '{http://www.w3.org/2005/Atom}entry' at 0x000002D82A647688>,\n",
       " <Element '{http://www.w3.org/2005/Atom}entry' at 0x000002D82A743688>,\n",
       " <Element '{http://www.w3.org/2005/Atom}entry' at 0x000002D82A722908>,\n",
       " <Element '{http://www.w3.org/2005/Atom}entry' at 0x000002D82A72BA98>,\n",
       " <Element '{http://www.w3.org/2005/Atom}entry' at 0x000002D82A749908>,\n",
       " <Element '{http://www.w3.org/2005/Atom}entry' at 0x000002D82A755908>,\n",
       " <Element '{http://www.w3.org/2005/Atom}entry' at 0x000002D82A69F598>]"
      ]
     },
     "execution_count": 14,
     "metadata": {},
     "output_type": "execute_result"
    }
   ],
   "source": [
    "# что за записи?\n",
    "entries"
   ]
  },
  {
   "cell_type": "code",
   "execution_count": 16,
   "metadata": {},
   "outputs": [
    {
     "name": "stdout",
     "output_type": "stream",
     "text": [
      "None\n",
      "None\n",
      "None\n",
      "None\n",
      "None\n",
      "None\n",
      "beginposition\n",
      "endposition\n",
      "ingestiondate\n",
      "orbitnumber\n",
      "relativeorbitnumber\n",
      "vegetationpercentage\n",
      "notvegetatedpercentage\n",
      "waterpercentage\n",
      "unclassifiedpercentage\n",
      "mediumprobacloudspercentage\n",
      "highprobacloudspercentage\n",
      "snowicepercentage\n",
      "cloudcoverpercentage\n",
      "level1cpdiidentifier\n",
      "gmlfootprint\n",
      "footprint\n",
      "format\n",
      "processingbaseline\n",
      "platformname\n",
      "filename\n",
      "instrumentname\n",
      "instrumentshortname\n",
      "size\n",
      "s2datatakeid\n",
      "producttype\n",
      "platformidentifier\n",
      "orbitdirection\n",
      "platformserialidentifier\n",
      "processinglevel\n",
      "identifier\n",
      "uuid\n"
     ]
    }
   ],
   "source": [
    "# возмём конкретную запись и посмотрим, какие есть поля\n",
    "for child in entries[0]:\n",
    "    print (child.get('name'))"
   ]
  },
  {
   "cell_type": "code",
   "execution_count": 17,
   "metadata": {},
   "outputs": [
    {
     "name": "stdout",
     "output_type": "stream",
     "text": [
      "Begin date: 2020-11-05T08:51:39.024Z\n",
      "UUID: 9453d637-e0c8-4d12-accc-c20d7f59e567\n"
     ]
    }
   ],
   "source": [
    "# Если нас интересует конкретное поле, получаем его значение\n",
    "for child in entries[0]:\n",
    "    if (child.get('name') == 'uuid'):\n",
    "        print ('UUID: %s' % child.text)\n",
    "        \n",
    "    if (child.get('name') == 'beginposition'):\n",
    "        print ('Begin date: %s' % child.text)"
   ]
  },
  {
   "cell_type": "code",
   "execution_count": 20,
   "metadata": {},
   "outputs": [
    {
     "name": "stdout",
     "output_type": "stream",
     "text": [
      "https://scihub.copernicus.eu/dhus/odata/v1/Products('9453d637-e0c8-4d12-accc-c20d7f59e567')/$value\n"
     ]
    }
   ],
   "source": [
    "# Получили список, а дальше?\n",
    "# А дальше нужно скачать! Скачивание производится на базе UUID.\n",
    "# Базовый адрес для скачивания у портала:\n",
    "odata_base_url = 'https://scihub.copernicus.eu/dhus/odata/v1/'\n",
    "\n",
    "# будем скачивать uuid 9453d637-e0c8-4d12-accc-c20d7f59e567\n",
    "uuid = '9453d637-e0c8-4d12-accc-c20d7f59e567'\n",
    "\n",
    "# формируем адрес для загрузки: прибавляем к базову адресу uuid в требуемой обёртке\n",
    "downloader_string = odata_base_url + 'Products(\\'%s\\')/$value' % str(uuid)\n",
    "\n",
    "# посмотрим на адрес получившийся\n",
    "print(downloader_string)"
   ]
  },
  {
   "cell_type": "code",
   "execution_count": 29,
   "metadata": {},
   "outputs": [],
   "source": [
    "# Подключаемся к этому адресу как к потоку данных\n",
    "r = requests.get(downloader_string, auth=('spbgeotex','SpbGeoTex0'), stream=True)"
   ]
  },
  {
   "cell_type": "code",
   "execution_count": 30,
   "metadata": {},
   "outputs": [
    {
     "data": {
      "text/plain": [
       "200"
      ]
     },
     "execution_count": 30,
     "metadata": {},
     "output_type": "execute_result"
    }
   ],
   "source": [
    "r.status_code"
   ]
  },
  {
   "cell_type": "code",
   "execution_count": 31,
   "metadata": {},
   "outputs": [
    {
     "name": "stdout",
     "output_type": "stream",
     "text": [
      "Megabytes downloaded: 0.0\n",
      "Megabytes downloaded: 78.125\n",
      "Megabytes downloaded: 156.25\n",
      "Megabytes downloaded: 234.375\n",
      "Megabytes downloaded: 312.5\n",
      "Megabytes downloaded: 390.625\n",
      "Megabytes downloaded: 468.75\n",
      "Megabytes downloaded: 546.875\n",
      "Megabytes downloaded: 625.0\n",
      "Megabytes downloaded: 703.125\n",
      "Megabytes downloaded: 781.25\n",
      "Megabytes downloaded: 859.375\n",
      "Megabytes downloaded: 937.5\n"
     ]
    }
   ],
   "source": [
    "# Этой переменной будем отслеживать сколько уже скачалось\n",
    "current_size = 0\n",
    "\n",
    "# Будем качать кусками по 4096 бит\n",
    "chunk_size = 4096\n",
    "\n",
    "# Файл, куда качаем\n",
    "test_file = 'data/test.zip'\n",
    "\n",
    "with open(test_file, 'wb') as fd:\n",
    "    k = 0\n",
    "    for chunk in r.iter_content(chunk_size=chunk_size):\n",
    "        # Чтобы быть в курсе процесса, печатаем прогресс, но не каждый раз, а при загрузке каждой 20000 пачки\n",
    "        if k % 20000 == 0:\n",
    "            print ('Megabytes downloaded: %s\\r' % str(current_size / 1024 / 1024.0))\n",
    "        k += 1\n",
    "        \n",
    "        fd.write(chunk)\n",
    "        current_size += chunk_size"
   ]
  },
  {
   "cell_type": "markdown",
   "metadata": {},
   "source": [
    "Кажется, мы только что научились скачивать данные Sentinel-2! Эта процедура включает два основных этапа - получение списка uuid сцен, которые удовлетворяют нашим условиям, а затем загрузка этих uuid.\n",
    "\n",
    "Разберёмся ещё с важнейшим фильтром - по охвату территории. Мы хотим запрашивать только те сцены, которые покрывают нашу местность. Для этого используется параметр footprint:\"Intersects(...)\" где вместо ... должна быть геометрия нашей территория в WGS84 и в формате <a href=\"https://ru.wikipedia.org/wiki/WKT\">WKT</a>. Вместо Intersects можно также использовать Contains и IsWithin.\n",
    "\n",
    "Чтобы добавить такую опцию к запросу, сначала придётся прочитать векторный слой с районом и извлечь его геометрию в формате WKT."
   ]
  },
  {
   "cell_type": "code",
   "execution_count": 79,
   "metadata": {},
   "outputs": [],
   "source": [
    "# Это просто сделать с помощью OGR - это мощная библитека для чтения, записи и базовой обработки векторных данных. Есть у неё и интерфейс для Python\n",
    "\n",
    "# Путь до нашего регона\n",
    "region_path = 'data/region.geojson'\n",
    "\n",
    "# открываем его\n",
    "region_ds = ogr.Open(region_path)\n",
    "\n",
    "# Достаём из него единственный слой\n",
    "region_layer = region_ds.GetLayerByIndex(0)"
   ]
  },
  {
   "cell_type": "code",
   "execution_count": 80,
   "metadata": {},
   "outputs": [
    {
     "data": {
      "text/plain": [
       "<osgeo.ogr.Layer; proxy of <Swig Object of type 'OGRLayerShadow *' at 0x000002D82AE9C750> >"
      ]
     },
     "execution_count": 80,
     "metadata": {},
     "output_type": "execute_result"
    }
   ],
   "source": [
    "region_layer"
   ]
  },
  {
   "cell_type": "code",
   "execution_count": 81,
   "metadata": {},
   "outputs": [],
   "source": [
    "# Из слоя достаём первый объект\n",
    "region_feature = region_layer.GetFeature(0)"
   ]
  },
  {
   "cell_type": "code",
   "execution_count": 82,
   "metadata": {},
   "outputs": [
    {
     "data": {
      "text/plain": [
       "<osgeo.ogr.Feature; proxy of <Swig Object of type 'OGRFeatureShadow *' at 0x000002D82B20FD80> >"
      ]
     },
     "execution_count": 82,
     "metadata": {},
     "output_type": "execute_result"
    }
   ],
   "source": [
    "region_feature"
   ]
  },
  {
   "cell_type": "code",
   "execution_count": 83,
   "metadata": {},
   "outputs": [
    {
     "data": {
      "text/plain": [
       "'POLYGON ((40.2437928352969 47.6688419967706,40.2486554577922 47.6687328446184,40.2521133226778 47.6694241377269,40.2557873041187 47.6685873080605,40.2591371107266 47.6673866159723,40.2644859954715 47.668296233727,40.2648101703045 47.6597815913122,40.2437928352969 47.6546139089538,40.2437928352969 47.6688419967706))'"
      ]
     },
     "execution_count": 83,
     "metadata": {},
     "output_type": "execute_result"
    }
   ],
   "source": [
    "# Из объекта достаём геометрию и представляем её в формате WKT\n",
    "region_wkt = region_feature.geometry().ExportToWkt()\n",
    "region_wkt"
   ]
  },
  {
   "cell_type": "markdown",
   "metadata": {},
   "source": [
    "Такую запись уже можно подставлять в запрос - и нам будут предлагаться только те сцены, которые покрывают или пересекаются с этим полигоном!\n",
    "Соберём пример полного запроса, ещё с датами и фильтром по облачности"
   ]
  },
  {
   "cell_type": "code",
   "execution_count": 84,
   "metadata": {},
   "outputs": [],
   "source": [
    "start_date = datetime(2020,5,1).strftime(\"%Y-%m-%dT%H:%M:%SZ\")\n",
    "end_date = datetime(2020,6,1).strftime(\"%Y-%m-%dT%H:%M:%SZ\")\n",
    "\n",
    "\n",
    "request_example = 'https://scihub.copernicus.eu/dhus/search?q=(platformname:Sentinel-2) AND (footprint:\"Contains(%s)\") AND (beginposition:[%s TO %s]) AND (endposition:[%s TO %s])' % (region_wkt, start_date, end_date, start_date, end_date)"
   ]
  },
  {
   "cell_type": "code",
   "execution_count": 85,
   "metadata": {},
   "outputs": [
    {
     "data": {
      "text/plain": [
       "'https://scihub.copernicus.eu/dhus/search?q=(platformname:Sentinel-2) AND (footprint:\"Contains(POLYGON ((40.2437928352969 47.6688419967706,40.2486554577922 47.6687328446184,40.2521133226778 47.6694241377269,40.2557873041187 47.6685873080605,40.2591371107266 47.6673866159723,40.2644859954715 47.668296233727,40.2648101703045 47.6597815913122,40.2437928352969 47.6546139089538,40.2437928352969 47.6688419967706)))\") AND (beginposition:[2020-05-01T00:00:00Z TO 2020-06-01T00:00:00Z]) AND (endposition:[2020-05-01T00:00:00Z TO 2020-06-01T00:00:00Z])'"
      ]
     },
     "execution_count": 85,
     "metadata": {},
     "output_type": "execute_result"
    }
   ],
   "source": [
    "request_example"
   ]
  },
  {
   "cell_type": "code",
   "execution_count": null,
   "metadata": {},
   "outputs": [],
   "source": [
    "https://scihub.copernicus.eu/dhus/search?q=(platformname:Sentinel-2) AND (footprint:\"Intersects(POLYGON ((40.2259091903418 47.6600727131276,40.242442106826 47.6602910534239,40.242442106826 47.6548322720784,40.2249366658428 47.6491545340656,40.2259091903418 47.66)))) AND (beginposition:[2020-05-01T00:00:00Z TO 2020-06-01T00:00:00Z]) AND (endposition:[2020-05-01T00:00:00Z TO 2020-06-01T00:00:00Z])"
   ]
  },
  {
   "cell_type": "code",
   "execution_count": 86,
   "metadata": {},
   "outputs": [],
   "source": [
    "# Отправляем\n",
    "r = requests.get(request_example, auth=('spbgeotex','SpbGeoTex0'))"
   ]
  },
  {
   "cell_type": "code",
   "execution_count": 87,
   "metadata": {},
   "outputs": [
    {
     "data": {
      "text/plain": [
       "200"
      ]
     },
     "execution_count": 87,
     "metadata": {},
     "output_type": "execute_result"
    }
   ],
   "source": [
    "r.status_code"
   ]
  },
  {
   "cell_type": "code",
   "execution_count": 89,
   "metadata": {},
   "outputs": [
    {
     "data": {
      "text/plain": [
       "b'<?xml version=\"1.0\" encoding=\"utf-8\"?><feed xmlns:opensearch=\"http://a9.com/-/spec/opensearch/1.1/\" xmlns=\"http://www.w3.org/2005/Atom\">\\n<title>Sentinels Scientific Data Hub search results for: (platformname:Sentinel-2) AND (footprint:\"Contains(POLYGON ((40.2437928352969 47.6688419967706,40.2486554577922 47.6687328446184,40.2521133226778 47.6694241377269,40.2557873041187 47.6685873080605,40.2591371107266 47.6673866159723,40.2644859954715 47.668296233727,40.2648101703045 47.6597815913122,40.2437928352969 47.6546139089538,40.2437928352969 47.6688419967706)))\") AND (beginposition:[2020-05-01T00:00:00Z TO 2020-06-01T00:00:00Z]) AND (endposition:[2020-05-01T00:00:00Z TO 2020-06-01T00:00:00Z])</title>\\n<subtitle>Displaying 0 to 9 of 12 total results. Request done in 2.489 seconds.</subtitle>\\n<updated>2020-11-05T17:43:03.115Z</updated>\\n<author>\\n<name>Sentinels Scientific Data Hub</name>\\n</author>\\n<id>https://scihub.copernicus.eu/dhus/search?q=(platformname:Sentinel-2) AND (footprint:\"Contains('"
      ]
     },
     "execution_count": 89,
     "metadata": {},
     "output_type": "execute_result"
    }
   ],
   "source": [
    "r.content[0:1000]"
   ]
  },
  {
   "cell_type": "markdown",
   "metadata": {},
   "source": [
    "Теперь, разобравшись во всех основных аспектах формирования запросов, сделаем для себя две красивых функции:\n",
    "* Функция для поиска данных S2 по начальной и конечной датам, входному файлу с вектором района интереса и ещё нескольким полям\n",
    "* Функция для загрузки данных по uuid"
   ]
  },
  {
   "cell_type": "code",
   "execution_count": 116,
   "metadata": {},
   "outputs": [],
   "source": [
    "# Функция поиска\n",
    "def search_s2 (user, password, start_date, end_date, region_file, cloud_limit=30):\n",
    "    scenes = []\n",
    "    \n",
    "    region_ds = ogr.Open(region_file)\n",
    "    region_layer = region_ds.GetLayerByIndex(0)\n",
    "    region_feature = region_layer.GetFeature(0)\n",
    "    region_wkt = region_feature.geometry().ExportToWkt()\n",
    "    \n",
    "    region_rule = '\"Contains(%s)\"' % region_wkt\n",
    "    start_date = start_date.strftime(\"%Y-%m-%dT%H:%M:%SZ\")\n",
    "    end_date = end_date.strftime(\"%Y-%m-%dT%H:%M:%SZ\")\n",
    "    cloud = '[0 TO %s]' % cloud_limit\n",
    "    platform = 'Sentinel-2'\n",
    "    product = 'S2MSI2A'\n",
    "    \n",
    "    query = 'https://scihub.copernicus.eu/dhus/search?q=(platformname:%s) AND (producttype:%s) AND (footprint:%s) AND (beginposition:[%s TO %s]) AND (endposition:[%s TO %s]) AND (cloudcoverpercentage:%s)&rows=100' % (platform, product, region_rule, start_date, end_date, start_date, end_date, cloud)\n",
    "    r = requests.get(query, auth=(user,password))\n",
    "    \n",
    "    answer_data = etree.ElementTree(etree.fromstring(r.content)).getroot()\n",
    "    entries = answer_data.findall('{http://www.w3.org/2005/Atom}entry')\n",
    "    \n",
    "    for entry in entries:\n",
    "        uuid = None\n",
    "        filename = None\n",
    "        for child in entry:\n",
    "            if (child.get('name') == 'uuid'):\n",
    "                uuid = child.text\n",
    "\n",
    "            if (child.get('name') == 'filename'):\n",
    "                filename = child.text\n",
    "                \n",
    "        if (not uuid) or (not filename):\n",
    "            continue\n",
    "        \n",
    "        scenes.append({'filename': filename,\n",
    "                       'uuid': uuid})\n",
    "    \n",
    "    return scenes"
   ]
  },
  {
   "cell_type": "code",
   "execution_count": 114,
   "metadata": {},
   "outputs": [
    {
     "name": "stdout",
     "output_type": "stream",
     "text": [
      "[{'filename': 'S2B_MSIL2A_20200927T081719_N0214_R121_T37TEN_20200927T105824.SAFE', 'uuid': '00e58dc5-af52-44a2-b9b3-2407c2378df4'}, {'filename': 'S2A_MSIL2A_20200922T081641_N0214_R121_T37TEN_20200922T101111.SAFE', 'uuid': 'aa259395-af81-48ff-b4f7-e249e39fcdec'}, {'filename': 'S2B_MSIL2A_20200917T081609_N0214_R121_T37TEN_20200917T103537.SAFE', 'uuid': '05d36ab0-4cab-4266-b57a-3ca5ca8206d0'}, {'filename': 'S2A_MSIL2A_20200912T081611_N0214_R121_T37TEN_20200912T104913.SAFE', 'uuid': '095fc8aa-ca9f-43e1-baca-1c9e55763e29'}, {'filename': 'S2B_MSIL2A_20200907T081609_N0214_R121_T37TEN_20200907T110224.SAFE', 'uuid': 'c0fa3f8c-cd43-4191-a14b-d0e8c32d6ad2'}, {'filename': 'S2A_MSIL2A_20200902T081611_N0214_R121_T37TEN_20200902T113611.SAFE', 'uuid': '871c43f6-f5a1-42c0-a5bb-69d10e81b9c3'}, {'filename': 'S2A_MSIL2A_20200823T081611_N0214_R121_T37TEN_20200823T100712.SAFE', 'uuid': '59f402d7-89e1-4c2f-aa65-1ffce153e187'}, {'filename': 'S2B_MSIL2A_20200818T081609_N0214_R121_T37TEN_20200818T110631.SAFE', 'uuid': 'cd517123-6094-4383-948c-cd3449397ce1'}, {'filename': 'S2B_MSIL2A_20200808T081609_N0214_R121_T37TEN_20200808T104620.SAFE', 'uuid': '72ae3c51-7b34-4e00-8f73-5986e1d5c1a1'}, {'filename': 'S2A_MSIL2A_20200803T081611_N0214_R121_T37TEN_20200803T110455.SAFE', 'uuid': '8f75501d-37af-406b-a15c-f17d80fbd0f5'}, {'filename': 'S2A_MSIL2A_20200724T081611_N0214_R121_T37TEN_20200724T110803.SAFE', 'uuid': '0aaf3caf-f9c8-4261-a9a0-99cf6945eb21'}, {'filename': 'S2B_MSIL2A_20200719T081609_N0214_R121_T37TEN_20200719T115251.SAFE', 'uuid': 'f08670c0-f216-4ece-9fb8-53904b9f2399'}, {'filename': 'S2A_MSIL2A_20200704T081611_N0214_R121_T37TEN_20200704T113511.SAFE', 'uuid': '564cfe7e-f2e8-4dd4-ae43-a423bf726fd2'}, {'filename': 'S2A_MSIL2A_20200624T081611_N0214_R121_T37TEN_20200624T110532.SAFE', 'uuid': 'a733d0bf-8aed-49d6-b38b-7f206fa965d9'}, {'filename': 'S2B_MSIL2A_20200609T081609_N0214_R121_T37TEN_20200609T122714.SAFE', 'uuid': 'd86450d5-e20f-4467-823f-3241407767d0'}, {'filename': 'S2A_MSIL2A_20200604T081611_N0214_R121_T37TEN_20200604T111842.SAFE', 'uuid': 'a7f81d12-655e-4681-a07a-4f3884a97887'}, {'filename': 'S2B_MSIL2A_20200520T081609_N0214_R121_T37TEN_20200520T120145.SAFE', 'uuid': 'daafd78a-ea5a-44a1-a7bb-62794f09965d'}, {'filename': 'S2B_MSIL2A_20200430T081559_N0214_R121_T37TEN_20200430T114419.SAFE', 'uuid': '8a4a1fb3-0380-4127-a9ce-c846f52ceed3'}, {'filename': 'S2A_MSIL2A_20200425T081611_N0214_R121_T37TEN_20200425T110509.SAFE', 'uuid': '71e30c04-25d8-49ab-b21f-316903f69a02'}, {'filename': 'S2B_MSIL2A_20200410T081559_N0214_R121_T37TEN_20200410T122536.SAFE', 'uuid': '4e1a4452-d93c-4a6c-b58e-c2cb0d02b649'}, {'filename': 'S2A_MSIL2A_20200405T081601_N0214_R121_T37TEN_20200405T110527.SAFE', 'uuid': '65cb1264-f173-4fe3-aebb-90770b533911'}, {'filename': 'S2B_MSIL2A_20200331T081559_N0214_R121_T37TEN_20200331T114151.SAFE', 'uuid': 'c8ff4a9e-caa8-433a-8901-9a7081a978a8'}, {'filename': 'S2A_MSIL2A_20200326T081601_N0214_R121_T37TEN_20200326T110806.SAFE', 'uuid': '0d3f7696-0819-455c-8ee5-aa3c5c91bb1e'}, {'filename': 'S2A_MSIL2A_20200316T081651_N0214_R121_T37TEN_20200316T125609.SAFE', 'uuid': '31948cda-ab8e-43ad-bad8-2ae9417c3407'}, {'filename': 'S2B_MSIL2A_20200301T081749_N0214_R121_T37TEN_20200301T114153.SAFE', 'uuid': '047cca3a-8cce-4520-8be0-20cce50eeb29'}]\n"
     ]
    }
   ],
   "source": [
    "# Тестируем её\n",
    "scenes = search_s2(user = 'spbgeotex',\n",
    "                   password = 'SpbGeoTex0',\n",
    "                   start_date = datetime(2020,3,1),\n",
    "                   end_date = datetime(2020,10,1),\n",
    "                   region_file = 'data/region.geojson')\n",
    "\n",
    "print (scenes)"
   ]
  },
  {
   "cell_type": "code",
   "execution_count": 115,
   "metadata": {},
   "outputs": [
    {
     "data": {
      "text/plain": [
       "25"
      ]
     },
     "execution_count": 115,
     "metadata": {},
     "output_type": "execute_result"
    }
   ],
   "source": [
    "len(scenes)"
   ]
  },
  {
   "cell_type": "code",
   "execution_count": 117,
   "metadata": {},
   "outputs": [],
   "source": [
    "# Функция загрузки\n",
    "def download_s2_by_uuid (user, password, uuid, destination):\n",
    "    if os.path.exists(destination):\n",
    "        print ('Файл уже существует')\n",
    "        return\n",
    "    \n",
    "    current_size = 0\n",
    "    chunk_size = 4096\n",
    "    print ('Начинаем загрузку %s' % destination)\n",
    "    with open(destination, 'wb') as fd:\n",
    "        k = 0\n",
    "        for chunk in r.iter_content(chunk_size=chunk_size):\n",
    "            # Чтобы быть в курсе процесса, печатаем прогресс, но не каждый раз, а при загрузке каждой 20000 пачки\n",
    "            if k % 20000 == 0:\n",
    "                print ('Megabytes downloaded: %s\\r' % str(current_size / 1024 / 1024.0))\n",
    "            k += 1\n",
    "\n",
    "            fd.write(chunk)\n",
    "            current_size += chunk_size"
   ]
  },
  {
   "cell_type": "code",
   "execution_count": 123,
   "metadata": {},
   "outputs": [
    {
     "name": "stdout",
     "output_type": "stream",
     "text": [
      "Начинаем загрузку data\\raw_scenes\\S2B_MSIL2A_20200927T081719_N0214_R121_T37TEN_20200927T105824.SAFE\n",
      "Megabytes downloaded: 0.0\n"
     ]
    }
   ],
   "source": [
    "# И начинаем загрузку всего по списку полученных сцен\n",
    "for scene in scenes[0:1]:\n",
    "    download_s2_by_uuid(user = 'spbgeotex',\n",
    "                        password = 'SpbGeoTex0',\n",
    "                        uuid = scene['uuid'],\n",
    "                        destination = os.path.join('data','raw_scenes',scene['filename']))"
   ]
  },
  {
   "cell_type": "code",
   "execution_count": null,
   "metadata": {},
   "outputs": [],
   "source": []
  }
 ],
 "metadata": {
  "kernelspec": {
   "display_name": "Python 3",
   "language": "python",
   "name": "python3"
  },
  "language_info": {
   "codemirror_mode": {
    "name": "ipython",
    "version": 3
   },
   "file_extension": ".py",
   "mimetype": "text/x-python",
   "name": "python",
   "nbconvert_exporter": "python",
   "pygments_lexer": "ipython3",
   "version": "3.7.9"
  }
 },
 "nbformat": 4,
 "nbformat_minor": 4
}
